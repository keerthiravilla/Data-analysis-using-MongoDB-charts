{
 "cells": [
  {
   "cell_type": "code",
   "execution_count": 1,
   "id": "basic-survey",
   "metadata": {},
   "outputs": [],
   "source": [
    "import numpy as np # linear algebra\n",
    "import pandas as pd # data processing, CSV file I/O\n",
    "room = pd.read_csv(r'C:\\Users\\Dell\\Desktop\\Cleaned_room_booking_data.csv') #reading the csv file\n"
   ]
  },
  {
   "cell_type": "code",
   "execution_count": 5,
   "id": "further-swift",
   "metadata": {},
   "outputs": [],
   "source": [
    "room['Booked_date']=room['day'].astype(str)+'-'+room['month'].astype(str)+'_'+room['year'].astype(str)"
   ]
  },
  {
   "cell_type": "code",
   "execution_count": 7,
   "id": "recorded-single",
   "metadata": {},
   "outputs": [
    {
     "name": "stdout",
     "output_type": "stream",
     "text": [
      "                           _id     id  aula  polo  sede  day  month  year  \\\n",
      "0     5fa8267c1bd2a03f4641a0a1  10000   112    26  1000   12     11  2020   \n",
      "1     5fa826f01bd2a03f4641a0a3  10000   112    26  1000   12     11  2020   \n",
      "2     5fa8271f1bd2a03f4641a0a5  10001   113    27  1000    9     11  2020   \n",
      "3     5fa827301bd2a03f4641a0a7  10001   113    27  1000    9     11  2020   \n",
      "4     5fa8274c1bd2a03f4641a0a9  10001   113    27  1000    9     11  2020   \n",
      "...                        ...    ...   ...   ...   ...  ...    ...   ...   \n",
      "3293  5fd9de93ff3b76b96dd79893  10084   113    27  1000   16     12  2020   \n",
      "3294  5fd9ded1ff3b76b96dd79895  10300   113    27  1000   16     12  2020   \n",
      "3295  5fd9dedfff3b76b96dd79897  10300   113    27  1000   16     12  2020   \n",
      "3296  5fd9e0f2ff3b76b96dd798a1  10044   113    27  1000   16     12  2020   \n",
      "3297  5fd9e104ff3b76b96dd798a3  10044   113    27  1000   16     12  2020   \n",
      "\n",
      "      time.start  time.end bookingDate Booking_date Booked_date  \n",
      "0           8.30     10.30  2020-11-08   12-11_2020  12-11_2020  \n",
      "1          10.45     12.45  2020-11-08   12-11_2020  12-11_2020  \n",
      "2           8.30     10.30  2020-11-08    9-11_2020   9-11_2020  \n",
      "3          10.45     12.45  2020-11-08    9-11_2020   9-11_2020  \n",
      "4          14.15     16.15  2020-11-08    9-11_2020   9-11_2020  \n",
      "...          ...       ...         ...          ...         ...  \n",
      "3293       14.15     16.15  2020-12-16   16-12_2020  16-12_2020  \n",
      "3294       14.15     16.15  2020-12-16   16-12_2020  16-12_2020  \n",
      "3295       16.30     18.30  2020-12-16   16-12_2020  16-12_2020  \n",
      "3296       14.15     16.15  2020-12-16   16-12_2020  16-12_2020  \n",
      "3297       16.30     18.30  2020-12-16   16-12_2020  16-12_2020  \n",
      "\n",
      "[3298 rows x 13 columns]\n"
     ]
    }
   ],
   "source": [
    "print(room)"
   ]
  },
  {
   "cell_type": "code",
   "execution_count": 10,
   "id": "partial-savannah",
   "metadata": {},
   "outputs": [],
   "source": [
    "export=room.to_csv(r'C:\\Users\\Dell\\Desktop\\Cleaned_room_booking_data1.csv')"
   ]
  },
  {
   "cell_type": "code",
   "execution_count": 11,
   "id": "broken-advance",
   "metadata": {},
   "outputs": [
    {
     "name": "stdout",
     "output_type": "stream",
     "text": [
      "None\n"
     ]
    }
   ],
   "source": [
    "print(export)"
   ]
  },
  {
   "cell_type": "code",
   "execution_count": null,
   "id": "approximate-spencer",
   "metadata": {},
   "outputs": [],
   "source": []
  }
 ],
 "metadata": {
  "kernelspec": {
   "display_name": "Python 3",
   "language": "python",
   "name": "python3"
  },
  "language_info": {
   "codemirror_mode": {
    "name": "ipython",
    "version": 3
   },
   "file_extension": ".py",
   "mimetype": "text/x-python",
   "name": "python",
   "nbconvert_exporter": "python",
   "pygments_lexer": "ipython3",
   "version": "3.9.2"
  }
 },
 "nbformat": 4,
 "nbformat_minor": 5
}
