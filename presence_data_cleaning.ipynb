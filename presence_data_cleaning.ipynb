{
 "cells": [
  {
   "cell_type": "code",
   "execution_count": 1,
   "id": "extended-modeling",
   "metadata": {},
   "outputs": [
    {
     "data": {
      "text/html": [
       "<div>\n",
       "<style scoped>\n",
       "    .dataframe tbody tr th:only-of-type {\n",
       "        vertical-align: middle;\n",
       "    }\n",
       "\n",
       "    .dataframe tbody tr th {\n",
       "        vertical-align: top;\n",
       "    }\n",
       "\n",
       "    .dataframe thead th {\n",
       "        text-align: right;\n",
       "    }\n",
       "</style>\n",
       "<table border=\"1\" class=\"dataframe\">\n",
       "  <thead>\n",
       "    <tr style=\"text-align: right;\">\n",
       "      <th></th>\n",
       "      <th>_id</th>\n",
       "      <th>aula</th>\n",
       "      <th>sede</th>\n",
       "      <th>polo</th>\n",
       "      <th>inDate</th>\n",
       "      <th>date</th>\n",
       "      <th>posto</th>\n",
       "      <th>outDate</th>\n",
       "    </tr>\n",
       "  </thead>\n",
       "  <tbody>\n",
       "    <tr>\n",
       "      <th>0</th>\n",
       "      <td>False</td>\n",
       "      <td>False</td>\n",
       "      <td>False</td>\n",
       "      <td>False</td>\n",
       "      <td>False</td>\n",
       "      <td>False</td>\n",
       "      <td>False</td>\n",
       "      <td>False</td>\n",
       "    </tr>\n",
       "    <tr>\n",
       "      <th>1</th>\n",
       "      <td>False</td>\n",
       "      <td>False</td>\n",
       "      <td>False</td>\n",
       "      <td>False</td>\n",
       "      <td>False</td>\n",
       "      <td>False</td>\n",
       "      <td>False</td>\n",
       "      <td>False</td>\n",
       "    </tr>\n",
       "    <tr>\n",
       "      <th>2</th>\n",
       "      <td>False</td>\n",
       "      <td>False</td>\n",
       "      <td>False</td>\n",
       "      <td>False</td>\n",
       "      <td>False</td>\n",
       "      <td>False</td>\n",
       "      <td>False</td>\n",
       "      <td>False</td>\n",
       "    </tr>\n",
       "    <tr>\n",
       "      <th>3</th>\n",
       "      <td>False</td>\n",
       "      <td>False</td>\n",
       "      <td>False</td>\n",
       "      <td>False</td>\n",
       "      <td>False</td>\n",
       "      <td>False</td>\n",
       "      <td>False</td>\n",
       "      <td>False</td>\n",
       "    </tr>\n",
       "    <tr>\n",
       "      <th>4</th>\n",
       "      <td>False</td>\n",
       "      <td>False</td>\n",
       "      <td>False</td>\n",
       "      <td>False</td>\n",
       "      <td>False</td>\n",
       "      <td>False</td>\n",
       "      <td>False</td>\n",
       "      <td>False</td>\n",
       "    </tr>\n",
       "    <tr>\n",
       "      <th>...</th>\n",
       "      <td>...</td>\n",
       "      <td>...</td>\n",
       "      <td>...</td>\n",
       "      <td>...</td>\n",
       "      <td>...</td>\n",
       "      <td>...</td>\n",
       "      <td>...</td>\n",
       "      <td>...</td>\n",
       "    </tr>\n",
       "    <tr>\n",
       "      <th>9836</th>\n",
       "      <td>False</td>\n",
       "      <td>False</td>\n",
       "      <td>False</td>\n",
       "      <td>False</td>\n",
       "      <td>False</td>\n",
       "      <td>False</td>\n",
       "      <td>False</td>\n",
       "      <td>True</td>\n",
       "    </tr>\n",
       "    <tr>\n",
       "      <th>9837</th>\n",
       "      <td>False</td>\n",
       "      <td>False</td>\n",
       "      <td>False</td>\n",
       "      <td>False</td>\n",
       "      <td>False</td>\n",
       "      <td>False</td>\n",
       "      <td>False</td>\n",
       "      <td>True</td>\n",
       "    </tr>\n",
       "    <tr>\n",
       "      <th>9838</th>\n",
       "      <td>False</td>\n",
       "      <td>False</td>\n",
       "      <td>False</td>\n",
       "      <td>False</td>\n",
       "      <td>False</td>\n",
       "      <td>False</td>\n",
       "      <td>False</td>\n",
       "      <td>True</td>\n",
       "    </tr>\n",
       "    <tr>\n",
       "      <th>9839</th>\n",
       "      <td>False</td>\n",
       "      <td>False</td>\n",
       "      <td>False</td>\n",
       "      <td>False</td>\n",
       "      <td>False</td>\n",
       "      <td>False</td>\n",
       "      <td>False</td>\n",
       "      <td>True</td>\n",
       "    </tr>\n",
       "    <tr>\n",
       "      <th>9840</th>\n",
       "      <td>False</td>\n",
       "      <td>False</td>\n",
       "      <td>False</td>\n",
       "      <td>False</td>\n",
       "      <td>False</td>\n",
       "      <td>False</td>\n",
       "      <td>False</td>\n",
       "      <td>True</td>\n",
       "    </tr>\n",
       "  </tbody>\n",
       "</table>\n",
       "<p>9841 rows × 8 columns</p>\n",
       "</div>"
      ],
      "text/plain": [
       "        _id   aula   sede   polo  inDate   date  posto  outDate\n",
       "0     False  False  False  False   False  False  False    False\n",
       "1     False  False  False  False   False  False  False    False\n",
       "2     False  False  False  False   False  False  False    False\n",
       "3     False  False  False  False   False  False  False    False\n",
       "4     False  False  False  False   False  False  False    False\n",
       "...     ...    ...    ...    ...     ...    ...    ...      ...\n",
       "9836  False  False  False  False   False  False  False     True\n",
       "9837  False  False  False  False   False  False  False     True\n",
       "9838  False  False  False  False   False  False  False     True\n",
       "9839  False  False  False  False   False  False  False     True\n",
       "9840  False  False  False  False   False  False  False     True\n",
       "\n",
       "[9841 rows x 8 columns]"
      ]
     },
     "execution_count": 1,
     "metadata": {},
     "output_type": "execute_result"
    }
   ],
   "source": [
    "import numpy as np # linear algebra\n",
    "import pandas as pd # data processing, CSV file I/O\n",
    "Presence = pd.read_csv(r'C:\\Users\\Dell\\Desktop\\New_Presences.csv') #reading the csv file\n",
    "Presence.isnull()"
   ]
  },
  {
   "cell_type": "code",
   "execution_count": 2,
   "id": "exterior-headset",
   "metadata": {},
   "outputs": [
    {
     "data": {
      "text/plain": [
       "_id          0\n",
       "aula         0\n",
       "sede         0\n",
       "polo         0\n",
       "inDate       0\n",
       "date         0\n",
       "posto        0\n",
       "outDate    223\n",
       "dtype: int64"
      ]
     },
     "execution_count": 2,
     "metadata": {},
     "output_type": "execute_result"
    }
   ],
   "source": [
    "Presence.isnull().sum() #getting the sum of all columns null values"
   ]
  },
  {
   "cell_type": "code",
   "execution_count": 3,
   "id": "patient-hydrogen",
   "metadata": {},
   "outputs": [
    {
     "name": "stdout",
     "output_type": "stream",
     "text": [
      "9841\n"
     ]
    }
   ],
   "source": [
    "length=len(Presence) #length of the csv file\n",
    "print(length)"
   ]
  },
  {
   "cell_type": "code",
   "execution_count": 4,
   "id": "competitive-metropolitan",
   "metadata": {},
   "outputs": [
    {
     "name": "stdout",
     "output_type": "stream",
     "text": [
      "                           _id  aula  sede  polo                    inDate  \\\n",
      "0     5fa8ef7d1bd2a03f4641a15e     1     1     1  2020-11-09T07:27:57.078Z   \n",
      "1     5fa8efa51bd2a03f4641a15f     1     1     1  2020-11-09T07:28:37.074Z   \n",
      "2     5fa8f0751bd2a03f4641a160     1     1     1  2020-11-09T07:32:05.878Z   \n",
      "3     5fa8f0811bd2a03f4641a161     1     1     1  2020-11-09T07:32:17.390Z   \n",
      "4     5fa8f0891bd2a03f4641a162     1     1     1  2020-11-09T07:32:25.980Z   \n",
      "...                        ...   ...   ...   ...                       ...   \n",
      "9711  5fd9c192ff3b76b96dd797c2     3     1     3  2020-12-16T08:13:06.770Z   \n",
      "9714  5fd9c1cfff3b76b96dd797c5    43     1     7  2020-12-16T08:14:07.162Z   \n",
      "9719  5fd9c213ff3b76b96dd797ca     9     2     4  2020-12-16T08:15:15.836Z   \n",
      "9787  5fd9d284ff3b76b96dd79831    58     2     4  2020-12-16T09:25:24.220Z   \n",
      "9818  5fd9db32ff3b76b96dd79865    17     1    11  2020-12-16T10:02:26.220Z   \n",
      "\n",
      "                                  date  posto                   outDate  \n",
      "0     2020-11-09 07:27:57.078000+00:00      1  2020-11-09T12:05:00.362Z  \n",
      "1     2020-11-09 07:28:37.074000+00:00      2  2020-11-09T12:05:00.363Z  \n",
      "2     2020-11-09 07:32:05.879000+00:00      3  2020-11-09T12:05:00.364Z  \n",
      "3     2020-11-09 07:32:17.390000+00:00      4  2020-11-09T07:32:20.897Z  \n",
      "4     2020-11-09 07:32:25.980000+00:00      5  2020-11-09T07:32:36.245Z  \n",
      "...                                ...    ...                       ...  \n",
      "9711  2020-12-16 08:13:06.770000+00:00      1  2020-12-16T10:13:16.221Z  \n",
      "9714  2020-12-16 08:14:07.162000+00:00     19  2020-12-16T10:23:45.731Z  \n",
      "9719  2020-12-16 08:15:15.837000+00:00      3  2020-12-16T09:52:51.598Z  \n",
      "9787  2020-12-16 09:25:24.221000+00:00      1  2020-12-16T09:41:26.771Z  \n",
      "9818  2020-12-16 10:02:26.221000+00:00      4  2020-12-16T10:02:48.686Z  \n",
      "\n",
      "[9618 rows x 8 columns]\n"
     ]
    }
   ],
   "source": [
    "Presence= Presence.dropna() #droping the null values \n",
    "print(Presence)"
   ]
  },
  {
   "cell_type": "code",
   "execution_count": 5,
   "id": "consolidated-newfoundland",
   "metadata": {},
   "outputs": [
    {
     "data": {
      "text/plain": [
       "_id        0\n",
       "aula       0\n",
       "sede       0\n",
       "polo       0\n",
       "inDate     0\n",
       "date       0\n",
       "posto      0\n",
       "outDate    0\n",
       "dtype: int64"
      ]
     },
     "execution_count": 5,
     "metadata": {},
     "output_type": "execute_result"
    }
   ],
   "source": [
    "Presence.isnull().sum() #checking the null values after droping"
   ]
  },
  {
   "cell_type": "code",
   "execution_count": 6,
   "id": "working-gates",
   "metadata": {},
   "outputs": [
    {
     "name": "stdout",
     "output_type": "stream",
     "text": [
      "                           _id  aula  sede  polo                    inDate  \\\n",
      "0     5fa8ef7d1bd2a03f4641a15e     1     1     1  2020-11-09T07:27:57.078Z   \n",
      "1     5fa8efa51bd2a03f4641a15f     1     1     1  2020-11-09T07:28:37.074Z   \n",
      "2     5fa8f0751bd2a03f4641a160     1     1     1  2020-11-09T07:32:05.878Z   \n",
      "3     5fa8f0811bd2a03f4641a161     1     1     1  2020-11-09T07:32:17.390Z   \n",
      "4     5fa8f0891bd2a03f4641a162     1     1     1  2020-11-09T07:32:25.980Z   \n",
      "...                        ...   ...   ...   ...                       ...   \n",
      "9711  5fd9c192ff3b76b96dd797c2     3     1     3  2020-12-16T08:13:06.770Z   \n",
      "9714  5fd9c1cfff3b76b96dd797c5    43     1     7  2020-12-16T08:14:07.162Z   \n",
      "9719  5fd9c213ff3b76b96dd797ca     9     2     4  2020-12-16T08:15:15.836Z   \n",
      "9787  5fd9d284ff3b76b96dd79831    58     2     4  2020-12-16T09:25:24.220Z   \n",
      "9818  5fd9db32ff3b76b96dd79865    17     1    11  2020-12-16T10:02:26.220Z   \n",
      "\n",
      "                                  date  posto                   outDate  \n",
      "0     2020-11-09 07:27:57.078000+00:00      1  2020-11-09T12:05:00.362Z  \n",
      "1     2020-11-09 07:28:37.074000+00:00      2  2020-11-09T12:05:00.363Z  \n",
      "2     2020-11-09 07:32:05.879000+00:00      3  2020-11-09T12:05:00.364Z  \n",
      "3     2020-11-09 07:32:17.390000+00:00      4  2020-11-09T07:32:20.897Z  \n",
      "4     2020-11-09 07:32:25.980000+00:00      5  2020-11-09T07:32:36.245Z  \n",
      "...                                ...    ...                       ...  \n",
      "9711  2020-12-16 08:13:06.770000+00:00      1  2020-12-16T10:13:16.221Z  \n",
      "9714  2020-12-16 08:14:07.162000+00:00     19  2020-12-16T10:23:45.731Z  \n",
      "9719  2020-12-16 08:15:15.837000+00:00      3  2020-12-16T09:52:51.598Z  \n",
      "9787  2020-12-16 09:25:24.221000+00:00      1  2020-12-16T09:41:26.771Z  \n",
      "9818  2020-12-16 10:02:26.221000+00:00      4  2020-12-16T10:02:48.686Z  \n",
      "\n",
      "[9618 rows x 8 columns]\n"
     ]
    }
   ],
   "source": [
    "print(Presence)"
   ]
  },
  {
   "cell_type": "code",
   "execution_count": 7,
   "id": "historic-mauritius",
   "metadata": {},
   "outputs": [
    {
     "name": "stdout",
     "output_type": "stream",
     "text": [
      "                           _id  aula  sede  polo                    inDate  \\\n",
      "0     5fa8ef7d1bd2a03f4641a15e     1     1     1  2020-11-09T07:27:57.078Z   \n",
      "1     5fa8efa51bd2a03f4641a15f     1     1     1  2020-11-09T07:28:37.074Z   \n",
      "2     5fa8f0751bd2a03f4641a160     1     1     1  2020-11-09T07:32:05.878Z   \n",
      "3     5fa8f0811bd2a03f4641a161     1     1     1  2020-11-09T07:32:17.390Z   \n",
      "4     5fa8f0891bd2a03f4641a162     1     1     1  2020-11-09T07:32:25.980Z   \n",
      "...                        ...   ...   ...   ...                       ...   \n",
      "9711  5fd9c192ff3b76b96dd797c2     3     1     3  2020-12-16T08:13:06.770Z   \n",
      "9714  5fd9c1cfff3b76b96dd797c5    43     1     7  2020-12-16T08:14:07.162Z   \n",
      "9719  5fd9c213ff3b76b96dd797ca     9     2     4  2020-12-16T08:15:15.836Z   \n",
      "9787  5fd9d284ff3b76b96dd79831    58     2     4  2020-12-16T09:25:24.220Z   \n",
      "9818  5fd9db32ff3b76b96dd79865    17     1    11  2020-12-16T10:02:26.220Z   \n",
      "\n",
      "            date  posto                   outDate  \n",
      "0     2020-11-09      1  2020-11-09T12:05:00.362Z  \n",
      "1     2020-11-09      2  2020-11-09T12:05:00.363Z  \n",
      "2     2020-11-09      3  2020-11-09T12:05:00.364Z  \n",
      "3     2020-11-09      4  2020-11-09T07:32:20.897Z  \n",
      "4     2020-11-09      5  2020-11-09T07:32:36.245Z  \n",
      "...          ...    ...                       ...  \n",
      "9711  2020-12-16      1  2020-12-16T10:13:16.221Z  \n",
      "9714  2020-12-16     19  2020-12-16T10:23:45.731Z  \n",
      "9719  2020-12-16      3  2020-12-16T09:52:51.598Z  \n",
      "9787  2020-12-16      1  2020-12-16T09:41:26.771Z  \n",
      "9818  2020-12-16      4  2020-12-16T10:02:48.686Z  \n",
      "\n",
      "[9618 rows x 8 columns]\n"
     ]
    }
   ],
   "source": [
    "Presence['date'] = pd.to_datetime(Presence['date']).dt.date #changing the date time format\n",
    "print(Presence)"
   ]
  },
  {
   "cell_type": "code",
   "execution_count": 19,
   "id": "proud-family",
   "metadata": {},
   "outputs": [
    {
     "name": "stdout",
     "output_type": "stream",
     "text": [
      "_id                       aula  sede  polo  date      \n",
      "5fa8ef7d1bd2a03f4641a15e  1     1     1     2020-11-09     1\n",
      "5fa8efa51bd2a03f4641a15f  1     1     1     2020-11-09     2\n",
      "5fa8f0751bd2a03f4641a160  1     1     1     2020-11-09     3\n",
      "5fa8f0811bd2a03f4641a161  1     1     1     2020-11-09     4\n",
      "5fa8f0891bd2a03f4641a162  1     1     1     2020-11-09     5\n",
      "                                                          ..\n",
      "5fd9c192ff3b76b96dd797c2  3     1     3     2020-12-16     1\n",
      "5fd9c1cfff3b76b96dd797c5  43    1     7     2020-12-16    19\n",
      "5fd9c213ff3b76b96dd797ca  9     2     4     2020-12-16     3\n",
      "5fd9d284ff3b76b96dd79831  58    2     4     2020-12-16     1\n",
      "5fd9db32ff3b76b96dd79865  17    1     11    2020-12-16     4\n",
      "Name: posto, Length: 9618, dtype: int64\n"
     ]
    }
   ],
   "source": [
    "Count_of_students=Presence.groupby(['_id','aula','sede','polo','date'])['posto'].agg('max') #counting the no.of students present in particualar date \n",
    "print(Count_of_students)"
   ]
  },
  {
   "cell_type": "code",
   "execution_count": 13,
   "id": "respected-exploration",
   "metadata": {},
   "outputs": [
    {
     "name": "stdout",
     "output_type": "stream",
     "text": [
      "     aula  sede  polo        date  posto\n",
      "0       1     1     1  2020-11-09     33\n",
      "1       1     1     1  2020-11-10     48\n",
      "2       1     1     1  2020-11-11     45\n",
      "3       1     1     1  2020-11-12     45\n",
      "4       1     1     1  2020-11-13     38\n",
      "..    ...   ...   ...         ...    ...\n",
      "707    65     1     2  2020-12-14      2\n",
      "708    66     1    21  2020-12-01      1\n",
      "709    67     2     4  2020-12-01      1\n",
      "710    68     2     4  2020-12-11     16\n",
      "711    68     2     4  2020-12-15     13\n",
      "\n",
      "[712 rows x 5 columns]\n"
     ]
    }
   ],
   "source": [
    "Count_of_students=Presence.groupby(['aula','sede','polo','date'])['posto'].agg('max').reset_index() # grouping and counting the no.of students present on partiular day\n",
    "print(Count_of_students)"
   ]
  },
  {
   "cell_type": "code",
   "execution_count": 16,
   "id": "painful-colonial",
   "metadata": {},
   "outputs": [
    {
     "name": "stdout",
     "output_type": "stream",
     "text": [
      "Empty DataFrame\n",
      "Columns: [aula, sede, polo, date, posto]\n",
      "Index: []\n"
     ]
    }
   ],
   "source": [
    "duplicates_if_any= Count_of_students[Count_of_students.duplicated()] #looking for the duplicates if any present in data\n",
    "print(duplicates_if_any)"
   ]
  },
  {
   "cell_type": "code",
   "execution_count": 17,
   "id": "liked-cherry",
   "metadata": {},
   "outputs": [
    {
     "name": "stdout",
     "output_type": "stream",
     "text": [
      "None\n"
     ]
    }
   ],
   "source": [
    "cleaned_data= Count_of_students.to_csv (r'C:\\Users\\Dell\\Desktop\\Cleaned_presencedata.csv', index = None, header=True) #exporting the cleaned data into csv file\n",
    "print(cleaned_data)"
   ]
  },
  {
   "cell_type": "code",
   "execution_count": null,
   "id": "efficient-patrol",
   "metadata": {},
   "outputs": [],
   "source": []
  }
 ],
 "metadata": {
  "kernelspec": {
   "display_name": "Python 3",
   "language": "python",
   "name": "python3"
  },
  "language_info": {
   "codemirror_mode": {
    "name": "ipython",
    "version": 3
   },
   "file_extension": ".py",
   "mimetype": "text/x-python",
   "name": "python",
   "nbconvert_exporter": "python",
   "pygments_lexer": "ipython3",
   "version": "3.9.2"
  }
 },
 "nbformat": 4,
 "nbformat_minor": 5
}
