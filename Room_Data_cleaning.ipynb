{
 "cells": [
  {
   "cell_type": "code",
   "execution_count": 21,
   "id": "verbal-desktop",
   "metadata": {},
   "outputs": [
    {
     "data": {
      "text/html": [
       "<div>\n",
       "<style scoped>\n",
       "    .dataframe tbody tr th:only-of-type {\n",
       "        vertical-align: middle;\n",
       "    }\n",
       "\n",
       "    .dataframe tbody tr th {\n",
       "        vertical-align: top;\n",
       "    }\n",
       "\n",
       "    .dataframe thead th {\n",
       "        text-align: right;\n",
       "    }\n",
       "</style>\n",
       "<table border=\"1\" class=\"dataframe\">\n",
       "  <thead>\n",
       "    <tr style=\"text-align: right;\">\n",
       "      <th></th>\n",
       "      <th>_id</th>\n",
       "      <th>Sede</th>\n",
       "      <th>aulaId</th>\n",
       "      <th>aulaDes</th>\n",
       "      <th>capienza</th>\n",
       "      <th>poloDes</th>\n",
       "      <th>date</th>\n",
       "      <th>scheduleType</th>\n",
       "      <th>schedules</th>\n",
       "    </tr>\n",
       "  </thead>\n",
       "  <tbody>\n",
       "    <tr>\n",
       "      <th>0</th>\n",
       "      <td>False</td>\n",
       "      <td>False</td>\n",
       "      <td>False</td>\n",
       "      <td>False</td>\n",
       "      <td>False</td>\n",
       "      <td>False</td>\n",
       "      <td>False</td>\n",
       "      <td>False</td>\n",
       "      <td>False</td>\n",
       "    </tr>\n",
       "    <tr>\n",
       "      <th>1</th>\n",
       "      <td>False</td>\n",
       "      <td>False</td>\n",
       "      <td>False</td>\n",
       "      <td>False</td>\n",
       "      <td>False</td>\n",
       "      <td>False</td>\n",
       "      <td>False</td>\n",
       "      <td>False</td>\n",
       "      <td>False</td>\n",
       "    </tr>\n",
       "    <tr>\n",
       "      <th>2</th>\n",
       "      <td>False</td>\n",
       "      <td>False</td>\n",
       "      <td>False</td>\n",
       "      <td>False</td>\n",
       "      <td>False</td>\n",
       "      <td>False</td>\n",
       "      <td>False</td>\n",
       "      <td>False</td>\n",
       "      <td>False</td>\n",
       "    </tr>\n",
       "    <tr>\n",
       "      <th>3</th>\n",
       "      <td>False</td>\n",
       "      <td>False</td>\n",
       "      <td>False</td>\n",
       "      <td>False</td>\n",
       "      <td>False</td>\n",
       "      <td>False</td>\n",
       "      <td>False</td>\n",
       "      <td>False</td>\n",
       "      <td>False</td>\n",
       "    </tr>\n",
       "    <tr>\n",
       "      <th>4</th>\n",
       "      <td>False</td>\n",
       "      <td>False</td>\n",
       "      <td>False</td>\n",
       "      <td>False</td>\n",
       "      <td>False</td>\n",
       "      <td>False</td>\n",
       "      <td>False</td>\n",
       "      <td>False</td>\n",
       "      <td>False</td>\n",
       "    </tr>\n",
       "    <tr>\n",
       "      <th>...</th>\n",
       "      <td>...</td>\n",
       "      <td>...</td>\n",
       "      <td>...</td>\n",
       "      <td>...</td>\n",
       "      <td>...</td>\n",
       "      <td>...</td>\n",
       "      <td>...</td>\n",
       "      <td>...</td>\n",
       "      <td>...</td>\n",
       "    </tr>\n",
       "    <tr>\n",
       "      <th>143</th>\n",
       "      <td>False</td>\n",
       "      <td>False</td>\n",
       "      <td>True</td>\n",
       "      <td>False</td>\n",
       "      <td>False</td>\n",
       "      <td>False</td>\n",
       "      <td>False</td>\n",
       "      <td>False</td>\n",
       "      <td>False</td>\n",
       "    </tr>\n",
       "    <tr>\n",
       "      <th>144</th>\n",
       "      <td>False</td>\n",
       "      <td>False</td>\n",
       "      <td>True</td>\n",
       "      <td>False</td>\n",
       "      <td>False</td>\n",
       "      <td>False</td>\n",
       "      <td>False</td>\n",
       "      <td>False</td>\n",
       "      <td>False</td>\n",
       "    </tr>\n",
       "    <tr>\n",
       "      <th>145</th>\n",
       "      <td>False</td>\n",
       "      <td>False</td>\n",
       "      <td>True</td>\n",
       "      <td>False</td>\n",
       "      <td>False</td>\n",
       "      <td>False</td>\n",
       "      <td>False</td>\n",
       "      <td>False</td>\n",
       "      <td>False</td>\n",
       "    </tr>\n",
       "    <tr>\n",
       "      <th>146</th>\n",
       "      <td>False</td>\n",
       "      <td>False</td>\n",
       "      <td>True</td>\n",
       "      <td>False</td>\n",
       "      <td>False</td>\n",
       "      <td>False</td>\n",
       "      <td>False</td>\n",
       "      <td>False</td>\n",
       "      <td>False</td>\n",
       "    </tr>\n",
       "    <tr>\n",
       "      <th>147</th>\n",
       "      <td>False</td>\n",
       "      <td>False</td>\n",
       "      <td>True</td>\n",
       "      <td>False</td>\n",
       "      <td>False</td>\n",
       "      <td>False</td>\n",
       "      <td>False</td>\n",
       "      <td>False</td>\n",
       "      <td>False</td>\n",
       "    </tr>\n",
       "  </tbody>\n",
       "</table>\n",
       "<p>148 rows × 9 columns</p>\n",
       "</div>"
      ],
      "text/plain": [
       "       _id   Sede  aulaId  aulaDes  capienza  poloDes   date  scheduleType  \\\n",
       "0    False  False   False    False     False    False  False         False   \n",
       "1    False  False   False    False     False    False  False         False   \n",
       "2    False  False   False    False     False    False  False         False   \n",
       "3    False  False   False    False     False    False  False         False   \n",
       "4    False  False   False    False     False    False  False         False   \n",
       "..     ...    ...     ...      ...       ...      ...    ...           ...   \n",
       "143  False  False    True    False     False    False  False         False   \n",
       "144  False  False    True    False     False    False  False         False   \n",
       "145  False  False    True    False     False    False  False         False   \n",
       "146  False  False    True    False     False    False  False         False   \n",
       "147  False  False    True    False     False    False  False         False   \n",
       "\n",
       "     schedules  \n",
       "0        False  \n",
       "1        False  \n",
       "2        False  \n",
       "3        False  \n",
       "4        False  \n",
       "..         ...  \n",
       "143      False  \n",
       "144      False  \n",
       "145      False  \n",
       "146      False  \n",
       "147      False  \n",
       "\n",
       "[148 rows x 9 columns]"
      ]
     },
     "execution_count": 21,
     "metadata": {},
     "output_type": "execute_result"
    }
   ],
   "source": [
    "import numpy as np # linear algebra\n",
    "import pandas as pd # data processing, CSV file I/O\n",
    "room = pd.read_csv(r'C:\\Users\\Dell\\Desktop\\rooms.csv') #reading the csv file\n",
    "room.isnull() # checking for the null or empty values"
   ]
  },
  {
   "cell_type": "code",
   "execution_count": 22,
   "id": "altered-victory",
   "metadata": {},
   "outputs": [
    {
     "data": {
      "text/plain": [
       "_id              0\n",
       "Sede             0\n",
       "aulaId          29\n",
       "aulaDes          0\n",
       "capienza         0\n",
       "poloDes          0\n",
       "date             0\n",
       "scheduleType     0\n",
       "schedules        0\n",
       "dtype: int64"
      ]
     },
     "execution_count": 22,
     "metadata": {},
     "output_type": "execute_result"
    }
   ],
   "source": [
    "room.isnull().sum() #getting the sum of all columns null values"
   ]
  },
  {
   "cell_type": "code",
   "execution_count": 23,
   "id": "considered-citizenship",
   "metadata": {},
   "outputs": [
    {
     "name": "stdout",
     "output_type": "stream",
     "text": [
      "148\n"
     ]
    }
   ],
   "source": [
    "#null containing aula id is important field, so dropping action is carried out\n",
    "length=len(room) #length of the csv file\n",
    "print(length)"
   ]
  },
  {
   "cell_type": "code",
   "execution_count": 24,
   "id": "julian-alberta",
   "metadata": {},
   "outputs": [
    {
     "name": "stdout",
     "output_type": "stream",
     "text": [
      "                          _id  Sede  aulaId  aulaDes  capienza  poloDes  \\\n",
      "0    5f5b4fdd400b9fbfbe0b8e94     1     1.0       69        10       15   \n",
      "1    5f5b4fdd400b9fbfbe0b8e95     1     2.0       25        24       15   \n",
      "2    5f5b4fdd400b9fbfbe0b8e96     1     3.0       12        12        2   \n",
      "3    5f5b4fdd400b9fbfbe0b8e97     1     4.0       16        10        2   \n",
      "4    5f5b4fdd400b9fbfbe0b8e98     1     7.0       35        76       18   \n",
      "..                        ...   ...     ...      ...       ...      ...   \n",
      "143  5f9ade072358534e7e6d469c     3     NaN      123        50       29   \n",
      "144  5fa05a957916daa867a158ae     1     NaN       31        14        1   \n",
      "145  5fa05aa77916daa867a158af     1     NaN       36         9        1   \n",
      "146  5fc95263eb6dbced74b94f68     2     NaN      124         6        4   \n",
      "147  5fca3ca8eb6dbced74b951b7     2     NaN      125        13       14   \n",
      "\n",
      "                                 date scheduleType schedules  \n",
      "0    2020-10-02 19:17:16.414000+00:00           []        []  \n",
      "1    2020-12-15 15:38:27.918000+00:00           []        []  \n",
      "2    2020-10-29 10:10:23.875000+00:00           []        []  \n",
      "3    2020-12-15 10:17:12.238000+00:00           []        []  \n",
      "4    2020-12-16 10:04:16.903000+00:00           []        []  \n",
      "..                                ...          ...       ...  \n",
      "143  2020-10-29 15:21:43.206000+00:00           []        []  \n",
      "144  2020-12-16 08:04:17.292000+00:00           []        []  \n",
      "145  2020-12-16 09:46:29.789000+00:00           []        []  \n",
      "146  2020-12-03 21:02:27.777000+00:00           []        []  \n",
      "147  2020-12-04 13:42:00.827000+00:00           []        []  \n",
      "\n",
      "[148 rows x 9 columns]\n"
     ]
    }
   ],
   "source": [
    "print(room)"
   ]
  },
  {
   "cell_type": "code",
   "execution_count": 25,
   "id": "functioning-oliver",
   "metadata": {},
   "outputs": [
    {
     "name": "stdout",
     "output_type": "stream",
     "text": [
      "                          _id  Sede  aulaId  aulaDes  capienza  poloDes  \\\n",
      "0    5f5b4fdd400b9fbfbe0b8e94     1     1.0       69        10       15   \n",
      "1    5f5b4fdd400b9fbfbe0b8e95     1     2.0       25        24       15   \n",
      "2    5f5b4fdd400b9fbfbe0b8e96     1     3.0       12        12        2   \n",
      "3    5f5b4fdd400b9fbfbe0b8e97     1     4.0       16        10        2   \n",
      "4    5f5b4fdd400b9fbfbe0b8e98     1     7.0       35        76       18   \n",
      "..                        ...   ...     ...      ...       ...      ...   \n",
      "143  5f9ade072358534e7e6d469c     3     NaN      123        50       29   \n",
      "144  5fa05a957916daa867a158ae     1     NaN       31        14        1   \n",
      "145  5fa05aa77916daa867a158af     1     NaN       36         9        1   \n",
      "146  5fc95263eb6dbced74b94f68     2     NaN      124         6        4   \n",
      "147  5fca3ca8eb6dbced74b951b7     2     NaN      125        13       14   \n",
      "\n",
      "           date scheduleType schedules  \n",
      "0    2020-10-02           []        []  \n",
      "1    2020-12-15           []        []  \n",
      "2    2020-10-29           []        []  \n",
      "3    2020-12-15           []        []  \n",
      "4    2020-12-16           []        []  \n",
      "..          ...          ...       ...  \n",
      "143  2020-10-29           []        []  \n",
      "144  2020-12-16           []        []  \n",
      "145  2020-12-16           []        []  \n",
      "146  2020-12-03           []        []  \n",
      "147  2020-12-04           []        []  \n",
      "\n",
      "[148 rows x 9 columns]\n"
     ]
    }
   ],
   "source": [
    "room['date'] = pd.to_datetime(room['date']).dt.date #changing the date time format\n",
    "print(room)"
   ]
  },
  {
   "cell_type": "code",
   "execution_count": 26,
   "id": "eligible-circle",
   "metadata": {},
   "outputs": [
    {
     "name": "stdout",
     "output_type": "stream",
     "text": [
      "Empty DataFrame\n",
      "Columns: [_id, Sede, aulaId, aulaDes, capienza, poloDes, date, scheduleType, schedules]\n",
      "Index: []\n"
     ]
    }
   ],
   "source": [
    "duplicates_if_any= room[room.duplicated()] #looking for the duplicates if any present in data\n",
    "print(duplicates_if_any)"
   ]
  },
  {
   "cell_type": "code",
   "execution_count": 27,
   "id": "silent-importance",
   "metadata": {},
   "outputs": [],
   "source": [
    "cleaned_data= Presence.to_csv (r'C:\\Users\\Dell\\Desktop\\Cleaned_roomdata.csv', index = None, header=True) #exporting the cleaned data into csv file"
   ]
  },
  {
   "cell_type": "code",
   "execution_count": null,
   "id": "powerful-raise",
   "metadata": {},
   "outputs": [],
   "source": []
  }
 ],
 "metadata": {
  "kernelspec": {
   "display_name": "Python 3",
   "language": "python",
   "name": "python3"
  },
  "language_info": {
   "codemirror_mode": {
    "name": "ipython",
    "version": 3
   },
   "file_extension": ".py",
   "mimetype": "text/x-python",
   "name": "python",
   "nbconvert_exporter": "python",
   "pygments_lexer": "ipython3",
   "version": "3.9.2"
  }
 },
 "nbformat": 4,
 "nbformat_minor": 5
}
