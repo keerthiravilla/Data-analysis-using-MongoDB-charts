{
 "cells": [
  {
   "cell_type": "code",
   "execution_count": 38,
   "id": "pregnant-iceland",
   "metadata": {},
   "outputs": [
    {
     "data": {
      "text/html": [
       "<div>\n",
       "<style scoped>\n",
       "    .dataframe tbody tr th:only-of-type {\n",
       "        vertical-align: middle;\n",
       "    }\n",
       "\n",
       "    .dataframe tbody tr th {\n",
       "        vertical-align: top;\n",
       "    }\n",
       "\n",
       "    .dataframe thead th {\n",
       "        text-align: right;\n",
       "    }\n",
       "</style>\n",
       "<table border=\"1\" class=\"dataframe\">\n",
       "  <thead>\n",
       "    <tr style=\"text-align: right;\">\n",
       "      <th></th>\n",
       "      <th>_id</th>\n",
       "      <th>bookings</th>\n",
       "      <th>room</th>\n",
       "      <th>date</th>\n",
       "    </tr>\n",
       "  </thead>\n",
       "  <tbody>\n",
       "    <tr>\n",
       "      <th>0</th>\n",
       "      <td>False</td>\n",
       "      <td>False</td>\n",
       "      <td>False</td>\n",
       "      <td>False</td>\n",
       "    </tr>\n",
       "    <tr>\n",
       "      <th>1</th>\n",
       "      <td>False</td>\n",
       "      <td>False</td>\n",
       "      <td>False</td>\n",
       "      <td>False</td>\n",
       "    </tr>\n",
       "    <tr>\n",
       "      <th>2</th>\n",
       "      <td>False</td>\n",
       "      <td>False</td>\n",
       "      <td>False</td>\n",
       "      <td>False</td>\n",
       "    </tr>\n",
       "    <tr>\n",
       "      <th>3</th>\n",
       "      <td>False</td>\n",
       "      <td>False</td>\n",
       "      <td>False</td>\n",
       "      <td>False</td>\n",
       "    </tr>\n",
       "    <tr>\n",
       "      <th>4</th>\n",
       "      <td>False</td>\n",
       "      <td>False</td>\n",
       "      <td>False</td>\n",
       "      <td>False</td>\n",
       "    </tr>\n",
       "    <tr>\n",
       "      <th>...</th>\n",
       "      <td>...</td>\n",
       "      <td>...</td>\n",
       "      <td>...</td>\n",
       "      <td>...</td>\n",
       "    </tr>\n",
       "    <tr>\n",
       "      <th>189</th>\n",
       "      <td>False</td>\n",
       "      <td>False</td>\n",
       "      <td>False</td>\n",
       "      <td>False</td>\n",
       "    </tr>\n",
       "    <tr>\n",
       "      <th>190</th>\n",
       "      <td>False</td>\n",
       "      <td>False</td>\n",
       "      <td>False</td>\n",
       "      <td>False</td>\n",
       "    </tr>\n",
       "    <tr>\n",
       "      <th>191</th>\n",
       "      <td>False</td>\n",
       "      <td>False</td>\n",
       "      <td>False</td>\n",
       "      <td>False</td>\n",
       "    </tr>\n",
       "    <tr>\n",
       "      <th>192</th>\n",
       "      <td>False</td>\n",
       "      <td>False</td>\n",
       "      <td>False</td>\n",
       "      <td>False</td>\n",
       "    </tr>\n",
       "    <tr>\n",
       "      <th>193</th>\n",
       "      <td>False</td>\n",
       "      <td>False</td>\n",
       "      <td>False</td>\n",
       "      <td>False</td>\n",
       "    </tr>\n",
       "  </tbody>\n",
       "</table>\n",
       "<p>194 rows × 4 columns</p>\n",
       "</div>"
      ],
      "text/plain": [
       "       _id  bookings   room   date\n",
       "0    False     False  False  False\n",
       "1    False     False  False  False\n",
       "2    False     False  False  False\n",
       "3    False     False  False  False\n",
       "4    False     False  False  False\n",
       "..     ...       ...    ...    ...\n",
       "189  False     False  False  False\n",
       "190  False     False  False  False\n",
       "191  False     False  False  False\n",
       "192  False     False  False  False\n",
       "193  False     False  False  False\n",
       "\n",
       "[194 rows x 4 columns]"
      ]
     },
     "execution_count": 38,
     "metadata": {},
     "output_type": "execute_result"
    }
   ],
   "source": [
    "import numpy as np # linear algebra\n",
    "import pandas as pd # data processing, CSV file I/O\n",
    "room_Schedule = pd.read_csv(r'C:\\Users\\Dell\\Desktop\\New_roomSchedule.csv') #reading the csv file\n",
    "room_Schedule.isnull() # checking for the null or empty values"
   ]
  },
  {
   "cell_type": "code",
   "execution_count": 39,
   "id": "incorporate-scratch",
   "metadata": {},
   "outputs": [
    {
     "data": {
      "text/plain": [
       "_id         0\n",
       "bookings    0\n",
       "room        0\n",
       "date        0\n",
       "dtype: int64"
      ]
     },
     "execution_count": 39,
     "metadata": {},
     "output_type": "execute_result"
    }
   ],
   "source": [
    "room_Schedule.isnull().sum() #getting the sum of all columns null values"
   ]
  },
  {
   "cell_type": "code",
   "execution_count": 40,
   "id": "universal-static",
   "metadata": {},
   "outputs": [
    {
     "name": "stdout",
     "output_type": "stream",
     "text": [
      "194\n"
     ]
    }
   ],
   "source": [
    "length=len(room_Schedule) #length of the csv file\n",
    "print(length)"
   ]
  },
  {
   "cell_type": "code",
   "execution_count": 41,
   "id": "concerned-lending",
   "metadata": {},
   "outputs": [
    {
     "name": "stdout",
     "output_type": "stream",
     "text": [
      "                          _id  \\\n",
      "0    5fa8267c1bd2a03f4641a099   \n",
      "1    5fa859611bd2a03f4641a0e0   \n",
      "2    5fa87aad1bd2a03f4641a130   \n",
      "3    5fa8fb591bd2a03f4641a1e9   \n",
      "4    5fa8fc3d1bd2a03f4641a1f7   \n",
      "..                        ...   \n",
      "189  5fdc8542ff3b76b96dd79dab   \n",
      "190  5fde2cd81c7ca18763114afb   \n",
      "191  5fdf86151c7ca18763114b2a   \n",
      "192  5fdfabe51c7ca18763114b5e   \n",
      "193  5fdfea6b1c7ca18763114b9f   \n",
      "\n",
      "                                              bookings  \\\n",
      "0    [{'_id': '5fa8267c1bd2a03f4641a09a', 'start': ...   \n",
      "1    [{'_id': '5fa859611bd2a03f4641a0e1', 'start': ...   \n",
      "2    [{'_id': '5fa87aad1bd2a03f4641a131', 'start': ...   \n",
      "3    [{'_id': '5fa8fb591bd2a03f4641a1ea', 'start': ...   \n",
      "4    [{'_id': '5fa8fc3d1bd2a03f4641a1f8', 'start': ...   \n",
      "..                                                 ...   \n",
      "189  [{'_id': '5fdc8542ff3b76b96dd79dac', 'start': ...   \n",
      "190  [{'_id': '5fde2cd81c7ca18763114afc', 'start': ...   \n",
      "191  [{'_id': '5fdf86151c7ca18763114b2b', 'start': ...   \n",
      "192  [{'_id': '5fdfabe51c7ca18763114b5f', 'start': ...   \n",
      "193  [{'_id': '5fdfea6b1c7ca18763114ba0', 'start': ...   \n",
      "\n",
      "                         room                              date  \n",
      "0    5f5bd5fafc7a3450ea06e81c  2020-11-08 17:10:20.328000+00:00  \n",
      "1    5f5cc739fc7a3450ea06e838  2020-11-08 20:47:29.186000+00:00  \n",
      "2    5f5b4fdd400b9fbfbe0b8ec3  2020-11-08 23:09:33.878000+00:00  \n",
      "3    5f5bd5fafc7a3450ea06e81c  2020-11-09 08:18:33.344000+00:00  \n",
      "4    5f5cc50bfc7a3450ea06e834  2020-11-09 08:22:21.433000+00:00  \n",
      "..                        ...                               ...  \n",
      "189  5f5cc781fc7a3450ea06e839  2020-12-18 10:32:34.679000+00:00  \n",
      "190  5f5cc50bfc7a3450ea06e834  2020-12-19 16:39:52.105000+00:00  \n",
      "191  5f5cc50bfc7a3450ea06e834  2020-12-20 17:12:53.116000+00:00  \n",
      "192  5f5cc50bfc7a3450ea06e834  2020-12-20 19:54:13.157000+00:00  \n",
      "193  5f5bd5fafc7a3450ea06e81c  2020-12-21 00:20:59.897000+00:00  \n",
      "\n",
      "[194 rows x 4 columns]\n"
     ]
    }
   ],
   "source": [
    "print(room_Schedule)"
   ]
  },
  {
   "cell_type": "code",
   "execution_count": 35,
   "id": "dress-decade",
   "metadata": {},
   "outputs": [
    {
     "name": "stdout",
     "output_type": "stream",
     "text": [
      "                           _id     id  aula  polo  sede  day  month  year  \\\n",
      "0     5fa8267c1bd2a03f4641a0a1  10000   112    26  1000   12     11  2020   \n",
      "1     5fa826f01bd2a03f4641a0a3  10000   112    26  1000   12     11  2020   \n",
      "2     5fa8271f1bd2a03f4641a0a5  10001   113    27  1000    9     11  2020   \n",
      "3     5fa827301bd2a03f4641a0a7  10001   113    27  1000    9     11  2020   \n",
      "4     5fa8274c1bd2a03f4641a0a9  10001   113    27  1000    9     11  2020   \n",
      "...                        ...    ...   ...   ...   ...  ...    ...   ...   \n",
      "3293  5fd9de93ff3b76b96dd79893  10084   113    27  1000   16     12  2020   \n",
      "3294  5fd9ded1ff3b76b96dd79895  10300   113    27  1000   16     12  2020   \n",
      "3295  5fd9dedfff3b76b96dd79897  10300   113    27  1000   16     12  2020   \n",
      "3296  5fd9e0f2ff3b76b96dd798a1  10044   113    27  1000   16     12  2020   \n",
      "3297  5fd9e104ff3b76b96dd798a3  10044   113    27  1000   16     12  2020   \n",
      "\n",
      "      time.start  time.end bookingDate  \n",
      "0           8.30     10.30  2020-11-08  \n",
      "1          10.45     12.45  2020-11-08  \n",
      "2           8.30     10.30  2020-11-08  \n",
      "3          10.45     12.45  2020-11-08  \n",
      "4          14.15     16.15  2020-11-08  \n",
      "...          ...       ...         ...  \n",
      "3293       14.15     16.15  2020-12-16  \n",
      "3294       14.15     16.15  2020-12-16  \n",
      "3295       16.30     18.30  2020-12-16  \n",
      "3296       14.15     16.15  2020-12-16  \n",
      "3297       16.30     18.30  2020-12-16  \n",
      "\n",
      "[3298 rows x 11 columns]\n"
     ]
    }
   ],
   "source": [
    "room_Bookings['bookingDate'] = pd.to_datetime(room_Bookings['bookingDate']).dt.date #changing the date time format\n",
    "print(room_Bookings)"
   ]
  },
  {
   "cell_type": "code",
   "execution_count": 36,
   "id": "capable-saturn",
   "metadata": {},
   "outputs": [
    {
     "name": "stdout",
     "output_type": "stream",
     "text": [
      "Empty DataFrame\n",
      "Columns: [_id, id, aula, polo, sede, day, month, year, time.start, time.end, bookingDate]\n",
      "Index: []\n"
     ]
    }
   ],
   "source": [
    "duplicates_if_any= room_Bookings[room_Bookings.duplicated()] #looking for the duplicates if any present in data\n",
    "print(duplicates_if_any)"
   ]
  },
  {
   "cell_type": "code",
   "execution_count": 37,
   "id": "sudden-testing",
   "metadata": {},
   "outputs": [],
   "source": [
    "cleaned_data= room_Bookings.to_csv (r'C:\\Users\\Dell\\Desktop\\Cleaned_room_booking_data.csv', index = None, header=True) #exporting the cleaned data into csv file"
   ]
  },
  {
   "cell_type": "code",
   "execution_count": null,
   "id": "addressed-marine",
   "metadata": {},
   "outputs": [],
   "source": []
  }
 ],
 "metadata": {
  "kernelspec": {
   "display_name": "Python 3",
   "language": "python",
   "name": "python3"
  },
  "language_info": {
   "codemirror_mode": {
    "name": "ipython",
    "version": 3
   },
   "file_extension": ".py",
   "mimetype": "text/x-python",
   "name": "python",
   "nbconvert_exporter": "python",
   "pygments_lexer": "ipython3",
   "version": "3.9.2"
  }
 },
 "nbformat": 4,
 "nbformat_minor": 5
}
