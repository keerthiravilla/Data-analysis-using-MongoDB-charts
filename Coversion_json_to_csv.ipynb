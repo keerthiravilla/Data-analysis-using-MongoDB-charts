{
 "cells": [
  {
   "cell_type": "code",
   "execution_count": 1,
   "id": "proof-fence",
   "metadata": {},
   "outputs": [
    {
     "name": "stdout",
     "output_type": "stream",
     "text": [
      "                           _id  aula  sede  polo                    inDate  \\\n",
      "0     5fa8ef7d1bd2a03f4641a15e     1     1     1  2020-11-09T07:27:57.078Z   \n",
      "1     5fa8efa51bd2a03f4641a15f     1     1     1  2020-11-09T07:28:37.074Z   \n",
      "2     5fa8f0751bd2a03f4641a160     1     1     1  2020-11-09T07:32:05.878Z   \n",
      "3     5fa8f0811bd2a03f4641a161     1     1     1  2020-11-09T07:32:17.390Z   \n",
      "4     5fa8f0891bd2a03f4641a162     1     1     1  2020-11-09T07:32:25.980Z   \n",
      "...                        ...   ...   ...   ...                       ...   \n",
      "9836  5fd9dcb7ff3b76b96dd7987b    17     1    11  2020-12-16T10:08:55.168Z   \n",
      "9837  5fd9ddcfff3b76b96dd7988b    19     1     5  2020-12-16T10:13:35.299Z   \n",
      "9838  5fd9ddf1ff3b76b96dd7988e     1     1     1  2020-12-16T10:14:09.471Z   \n",
      "9839  5fd9de6cff3b76b96dd79891    13     4     9  2020-12-16T10:16:12.267Z   \n",
      "9840  5fd9df86ff3b76b96dd79898    19     1     5  2020-12-16T10:20:54.612Z   \n",
      "\n",
      "                                  date  posto                   outDate  \n",
      "0     2020-11-09 07:27:57.078000+00:00      1  2020-11-09T12:05:00.362Z  \n",
      "1     2020-11-09 07:28:37.074000+00:00      2  2020-11-09T12:05:00.363Z  \n",
      "2     2020-11-09 07:32:05.879000+00:00      3  2020-11-09T12:05:00.364Z  \n",
      "3     2020-11-09 07:32:17.390000+00:00      4  2020-11-09T07:32:20.897Z  \n",
      "4     2020-11-09 07:32:25.980000+00:00      5  2020-11-09T07:32:36.245Z  \n",
      "...                                ...    ...                       ...  \n",
      "9836  2020-12-16 10:08:55.168000+00:00     13                       NaN  \n",
      "9837  2020-12-16 10:13:35.299000+00:00     12                       NaN  \n",
      "9838  2020-12-16 10:14:09.471000+00:00     46                       NaN  \n",
      "9839  2020-12-16 10:16:12.267000+00:00     15                       NaN  \n",
      "9840  2020-12-16 10:20:54.612000+00:00     13                       NaN  \n",
      "\n",
      "[9841 rows x 8 columns]\n"
     ]
    }
   ],
   "source": [
    "import pandas as pd\n",
    "df = pd.read_json (r'C:\\Users\\Dell\\Desktop\\YoUnicam dataset\\Data\\presences.json')\n",
    "export_csv = df.to_csv (r'C:\\Users\\Dell\\Desktop\\New_Presences.csv', index = None, header=True)\n",
    "df = pd.read_csv(r'C:\\Users\\Dell\\Desktop\\New_Presences.csv')\n",
    "print(df)"
   ]
  },
  {
   "cell_type": "code",
   "execution_count": 2,
   "id": "bottom-threat",
   "metadata": {},
   "outputs": [
    {
     "name": "stdout",
     "output_type": "stream",
     "text": [
      "                          _id  \\\n",
      "0    5fa8267c1bd2a03f4641a099   \n",
      "1    5fa859611bd2a03f4641a0e0   \n",
      "2    5fa87aad1bd2a03f4641a130   \n",
      "3    5fa8fb591bd2a03f4641a1e9   \n",
      "4    5fa8fc3d1bd2a03f4641a1f7   \n",
      "..                        ...   \n",
      "189  5fdc8542ff3b76b96dd79dab   \n",
      "190  5fde2cd81c7ca18763114afb   \n",
      "191  5fdf86151c7ca18763114b2a   \n",
      "192  5fdfabe51c7ca18763114b5e   \n",
      "193  5fdfea6b1c7ca18763114b9f   \n",
      "\n",
      "                                              bookings  \\\n",
      "0    [{'_id': '5fa8267c1bd2a03f4641a09a', 'start': ...   \n",
      "1    [{'_id': '5fa859611bd2a03f4641a0e1', 'start': ...   \n",
      "2    [{'_id': '5fa87aad1bd2a03f4641a131', 'start': ...   \n",
      "3    [{'_id': '5fa8fb591bd2a03f4641a1ea', 'start': ...   \n",
      "4    [{'_id': '5fa8fc3d1bd2a03f4641a1f8', 'start': ...   \n",
      "..                                                 ...   \n",
      "189  [{'_id': '5fdc8542ff3b76b96dd79dac', 'start': ...   \n",
      "190  [{'_id': '5fde2cd81c7ca18763114afc', 'start': ...   \n",
      "191  [{'_id': '5fdf86151c7ca18763114b2b', 'start': ...   \n",
      "192  [{'_id': '5fdfabe51c7ca18763114b5f', 'start': ...   \n",
      "193  [{'_id': '5fdfea6b1c7ca18763114ba0', 'start': ...   \n",
      "\n",
      "                         room                              date  \n",
      "0    5f5bd5fafc7a3450ea06e81c  2020-11-08 17:10:20.328000+00:00  \n",
      "1    5f5cc739fc7a3450ea06e838  2020-11-08 20:47:29.186000+00:00  \n",
      "2    5f5b4fdd400b9fbfbe0b8ec3  2020-11-08 23:09:33.878000+00:00  \n",
      "3    5f5bd5fafc7a3450ea06e81c  2020-11-09 08:18:33.344000+00:00  \n",
      "4    5f5cc50bfc7a3450ea06e834  2020-11-09 08:22:21.433000+00:00  \n",
      "..                        ...                               ...  \n",
      "189  5f5cc781fc7a3450ea06e839  2020-12-18 10:32:34.679000+00:00  \n",
      "190  5f5cc50bfc7a3450ea06e834  2020-12-19 16:39:52.105000+00:00  \n",
      "191  5f5cc50bfc7a3450ea06e834  2020-12-20 17:12:53.116000+00:00  \n",
      "192  5f5cc50bfc7a3450ea06e834  2020-12-20 19:54:13.157000+00:00  \n",
      "193  5f5bd5fafc7a3450ea06e81c  2020-12-21 00:20:59.897000+00:00  \n",
      "\n",
      "[194 rows x 4 columns]\n"
     ]
    }
   ],
   "source": [
    "import pandas as pd\n",
    "df = pd.read_json (r'C:\\Users\\Dell\\Desktop\\YoUnicam dataset\\Data\\roomSchedule.json')\n",
    "export_csv = df.to_csv (r'C:\\Users\\Dell\\Desktop\\New_roomSchedule.csv', index = None, header=True)\n",
    "df = pd.read_csv(r'C:\\Users\\Dell\\Desktop\\New_roomSchedule.csv')\n",
    "print(df)"
   ]
  },
  {
   "cell_type": "code",
   "execution_count": 3,
   "id": "affecting-volleyball",
   "metadata": {},
   "outputs": [
    {
     "name": "stdout",
     "output_type": "stream",
     "text": [
      "                           _id     id  aula  polo  sede  day  month  year  \\\n",
      "0     5fa8267c1bd2a03f4641a0a1  10000   112    26  1000   12     11  2020   \n",
      "1     5fa826f01bd2a03f4641a0a3  10000   112    26  1000   12     11  2020   \n",
      "2     5fa8271f1bd2a03f4641a0a5  10001   113    27  1000    9     11  2020   \n",
      "3     5fa827301bd2a03f4641a0a7  10001   113    27  1000    9     11  2020   \n",
      "4     5fa8274c1bd2a03f4641a0a9  10001   113    27  1000    9     11  2020   \n",
      "...                        ...    ...   ...   ...   ...  ...    ...   ...   \n",
      "3293  5fd9de93ff3b76b96dd79893  10084   113    27  1000   16     12  2020   \n",
      "3294  5fd9ded1ff3b76b96dd79895  10300   113    27  1000   16     12  2020   \n",
      "3295  5fd9dedfff3b76b96dd79897  10300   113    27  1000   16     12  2020   \n",
      "3296  5fd9e0f2ff3b76b96dd798a1  10044   113    27  1000   16     12  2020   \n",
      "3297  5fd9e104ff3b76b96dd798a3  10044   113    27  1000   16     12  2020   \n",
      "\n",
      "      time.start  time.end               bookingDate  \n",
      "0           8.30     10.30  2020-11-08T17:10:20.337Z  \n",
      "1          10.45     12.45  2020-11-08T17:12:16.357Z  \n",
      "2           8.30     10.30  2020-11-08T17:13:03.208Z  \n",
      "3          10.45     12.45  2020-11-08T17:13:20.913Z  \n",
      "4          14.15     16.15  2020-11-08T17:13:48.793Z  \n",
      "...          ...       ...                       ...  \n",
      "3293       14.15     16.15  2020-12-16T10:16:51.017Z  \n",
      "3294       14.15     16.15  2020-12-16T10:17:53.122Z  \n",
      "3295       16.30     18.30  2020-12-16T10:18:07.068Z  \n",
      "3296       14.15     16.15  2020-12-16T10:26:58.767Z  \n",
      "3297       16.30     18.30  2020-12-16T10:27:16.407Z  \n",
      "\n",
      "[3298 rows x 11 columns]\n"
     ]
    }
   ],
   "source": [
    "import pandas as pd\n",
    "df = pd.read_json (r'C:\\Users\\Dell\\Desktop\\YoUnicam dataset\\Data\\roomBookings.json')\n",
    "export_csv = df.to_csv (r'C:\\Users\\Dell\\Desktop\\New_roomBookings.csv', index = None, header=True)\n",
    "df = pd.read_csv(r'C:\\Users\\Dell\\Desktop\\New_roomBookings.csv')\n",
    "print(df)"
   ]
  },
  {
   "cell_type": "code",
   "execution_count": 4,
   "id": "closed-archives",
   "metadata": {},
   "outputs": [
    {
     "name": "stdout",
     "output_type": "stream",
     "text": [
      "                          _id  Sede  aulaId  aulaDes  capienza  poloDes  \\\n",
      "0    5f5b4fdd400b9fbfbe0b8e94     1     1.0       69        10       15   \n",
      "1    5f5b4fdd400b9fbfbe0b8e95     1     2.0       25        24       15   \n",
      "2    5f5b4fdd400b9fbfbe0b8e96     1     3.0       12        12        2   \n",
      "3    5f5b4fdd400b9fbfbe0b8e97     1     4.0       16        10        2   \n",
      "4    5f5b4fdd400b9fbfbe0b8e98     1     7.0       35        76       18   \n",
      "..                        ...   ...     ...      ...       ...      ...   \n",
      "143  5f9ade072358534e7e6d469c     3     NaN      123        50       29   \n",
      "144  5fa05a957916daa867a158ae     1     NaN       31        14        1   \n",
      "145  5fa05aa77916daa867a158af     1     NaN       36         9        1   \n",
      "146  5fc95263eb6dbced74b94f68     2     NaN      124         6        4   \n",
      "147  5fca3ca8eb6dbced74b951b7     2     NaN      125        13       14   \n",
      "\n",
      "                                 date scheduleType schedules  \n",
      "0    2020-10-02 19:17:16.414000+00:00           []        []  \n",
      "1    2020-12-15 15:38:27.918000+00:00           []        []  \n",
      "2    2020-10-29 10:10:23.875000+00:00           []        []  \n",
      "3    2020-12-15 10:17:12.238000+00:00           []        []  \n",
      "4    2020-12-16 10:04:16.903000+00:00           []        []  \n",
      "..                                ...          ...       ...  \n",
      "143  2020-10-29 15:21:43.206000+00:00           []        []  \n",
      "144  2020-12-16 08:04:17.292000+00:00           []        []  \n",
      "145  2020-12-16 09:46:29.789000+00:00           []        []  \n",
      "146  2020-12-03 21:02:27.777000+00:00           []        []  \n",
      "147  2020-12-04 13:42:00.827000+00:00           []        []  \n",
      "\n",
      "[148 rows x 9 columns]\n"
     ]
    }
   ],
   "source": [
    "import pandas as pd\n",
    "df = pd.read_json (r'C:\\Users\\Dell\\Desktop\\YoUnicam dataset\\Data\\rooms.json')\n",
    "export_csv = df.to_csv (r'C:\\Users\\Dell\\Desktop\\rooms', index = None, header=True)\n",
    "df = pd.read_csv(r'C:\\Users\\Dell\\Desktop\\rooms')\n",
    "print(df)\n"
   ]
  },
  {
   "cell_type": "code",
   "execution_count": null,
   "id": "cultural-poverty",
   "metadata": {},
   "outputs": [],
   "source": []
  }
 ],
 "metadata": {
  "kernelspec": {
   "display_name": "Python 3",
   "language": "python",
   "name": "python3"
  },
  "language_info": {
   "codemirror_mode": {
    "name": "ipython",
    "version": 3
   },
   "file_extension": ".py",
   "mimetype": "text/x-python",
   "name": "python",
   "nbconvert_exporter": "python",
   "pygments_lexer": "ipython3",
   "version": "3.9.2"
  }
 },
 "nbformat": 4,
 "nbformat_minor": 5
}
